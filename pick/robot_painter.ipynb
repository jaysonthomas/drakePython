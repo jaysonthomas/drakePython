{
 "cells": [
  {
   "cell_type": "markdown",
   "metadata": {
    "colab_type": "text",
    "id": "KE6SesUXE9jX"
   },
   "source": [
    "# Robot Painter"
   ]
  },
  {
   "cell_type": "code",
   "execution_count": 10,
   "metadata": {
    "colab": {},
    "colab_type": "code",
    "id": "xyZz8R16E9jZ"
   },
   "outputs": [],
   "source": [
    "import numpy as np\n",
    "from IPython.display import HTML, display\n",
    "from pydrake.all import (AbstractValue, ConstantVectorSource, DiagramBuilder,\n",
    "                         LeafSystem, MeshcatVisualizer,\n",
    "                         MeshcatVisualizerParams, PiecewisePose,\n",
    "                         RigidTransform, RotationMatrix, Simulator,\n",
    "                         StartMeshcat, TrajectorySource)\n",
    "\n",
    "from manipulation import FindResource, running_as_notebook\n",
    "from manipulation.meshcat_utils import AddMeshcatTriad\n",
    "from manipulation.scenarios import (AddIiwaDifferentialIK,\n",
    "                                    MakeManipulationStation)"
   ]
  },
  {
   "cell_type": "code",
   "execution_count": 11,
   "metadata": {},
   "outputs": [
    {
     "name": "stderr",
     "output_type": "stream",
     "text": [
      "INFO:drake:Meshcat listening for connections at http://localhost:7001\n"
     ]
    }
   ],
   "source": [
    "# Start the visualizer.\n",
    "meshcat = StartMeshcat()"
   ]
  },
  {
   "cell_type": "markdown",
   "metadata": {
    "colab_type": "text",
    "id": "zfITVansaoLi"
   },
   "source": [
    "In the following cell we provide a wrapper class that hides parts of the implementation details in Drake. You are not required to understand how it works."
   ]
  },
  {
   "cell_type": "code",
   "execution_count": 13,
   "metadata": {
    "colab": {},
    "colab_type": "code",
    "id": "SuwPFHfYE9jj"
   },
   "outputs": [],
   "source": [
    "class PoseTrajectorySource(LeafSystem):\n",
    "    def __init__(self, pose_trajectory):\n",
    "        LeafSystem.__init__(self)\n",
    "        self._pose_trajectory = pose_trajectory\n",
    "        self.DeclareAbstractOutputPort(\n",
    "            \"pose\", lambda: AbstractValue.Make(RigidTransform()),\n",
    "            self.CalcPose)\n",
    "\n",
    "    def CalcPose(self, context, output):\n",
    "        output.set_value(self._pose_trajectory.GetPose(context.get_time()))\n",
    "\n",
    "\n",
    "class IIWA_Painter():\n",
    "    def __init__(self, traj=None):\n",
    "        builder = DiagramBuilder()\n",
    "        # set up the system of manipulation station\n",
    "        self.station = MakeManipulationStation(filename=FindResource(\"models/clutter.dmd.yaml\"))\n",
    "\n",
    "        builder.AddSystem(self.station)\n",
    "        self.plant = self.station.GetSubsystemByName(\"plant\")\n",
    "        controller_plant = self.station.GetSubsystemByName(\n",
    "            \"iiwa_controller\").get_multibody_plant_for_control()\n",
    "\n",
    "        # optionally add trajectory source\n",
    "        if traj is not None:\n",
    "            traj_source = builder.AddSystem(PoseTrajectorySource(traj))\n",
    "            self.controller = AddIiwaDifferentialIK(\n",
    "                builder,\n",
    "                controller_plant,\n",
    "                frame=controller_plant.GetFrameByName(\"body\"))\n",
    "            builder.Connect(traj_source.get_output_port(),\n",
    "                            self.controller.get_input_port(0))\n",
    "            builder.Connect(self.station.GetOutputPort(\"iiwa_state_estimated\"),\n",
    "                            self.controller.GetInputPort(\"robot_state\"))\n",
    "\n",
    "            builder.Connect(self.controller.get_output_port(),\n",
    "                            self.station.GetInputPort(\"iiwa_position\"))\n",
    "\n",
    "        params = MeshcatVisualizerParams()\n",
    "        params.delete_on_initialization_event = False\n",
    "        self.visualizer = MeshcatVisualizer.AddToBuilder(\n",
    "            builder, self.station.GetOutputPort(\"query_object\"), meshcat, params)\n",
    "\n",
    "        wsg_position = builder.AddSystem(ConstantVectorSource([0.1]))\n",
    "        builder.Connect(wsg_position.get_output_port(),\n",
    "                        self.station.GetInputPort(\"wsg_position\"))\n",
    "\n",
    "        self.diagram = builder.Build()\n",
    "        self.gripper_frame = self.plant.GetFrameByName('body')\n",
    "        self.world_frame = self.plant.world_frame()\n",
    "\n",
    "        context = self.CreateDefaultContext()\n",
    "        self.diagram.ForcedPublish(context)\n",
    "\n",
    "    def visualize_frame(self, name, X_WF, length=0.15, radius=0.006):\n",
    "        \"\"\"\n",
    "        visualize imaginary frame that are not attached to existing bodies\n",
    "        \n",
    "        Input: \n",
    "            name: the name of the frame (str)\n",
    "            X_WF: a RigidTransform to from frame F to world.\n",
    "        \n",
    "        Frames whose names already exist will be overwritten by the new frame\n",
    "        \"\"\"\n",
    "        AddMeshcatTriad(meshcat, \"painter/\" + name,\n",
    "                        length=length, radius=radius, X_PT=X_WF)\n",
    "\n",
    "    def CreateDefaultContext(self):\n",
    "        context = self.diagram.CreateDefaultContext()\n",
    "        plant_context = self.diagram.GetMutableSubsystemContext(\n",
    "            self.plant, context)\n",
    "        station_context = self.diagram.GetMutableSubsystemContext(\n",
    "            self.station, context)\n",
    "\n",
    "        # provide initial states\n",
    "        q0 = np.array([ 1.40666193e-05,  1.56461165e-01, -3.82761069e-05,\n",
    "                       -1.32296976e+00, -6.29097287e-06,  1.61181157e+00, -2.66900985e-05])\n",
    "        # set the joint positions of the kuka arm\n",
    "        iiwa = self.plant.GetModelInstanceByName(\"iiwa\")\n",
    "        self.plant.SetPositions(plant_context, iiwa, q0)\n",
    "        self.plant.SetVelocities(plant_context, iiwa, np.zeros(7))\n",
    "        wsg = self.plant.GetModelInstanceByName(\"wsg\")\n",
    "        self.plant.SetPositions(plant_context, wsg, [-0.05, 0.05])\n",
    "        self.plant.SetVelocities(plant_context, wsg, [0, 0])\n",
    "\n",
    "        return context\n",
    "\n",
    "\n",
    "    def get_X_WG(self, context=None):\n",
    "\n",
    "        if not context:\n",
    "            context = self.CreateDefaultContext()\n",
    "        plant_context = self.plant.GetMyMutableContextFromRoot(context)\n",
    "        X_WG = self.plant.CalcRelativeTransform(\n",
    "                    plant_context,\n",
    "                    frame_A=self.world_frame,\n",
    "                    frame_B=self.gripper_frame)\n",
    "        return X_WG\n",
    "\n",
    "    def paint(self, sim_duration=20.0):\n",
    "        context = self.CreateDefaultContext()\n",
    "        simulator = Simulator(self.diagram, context)\n",
    "        simulator.set_target_realtime_rate(1.0)\n",
    "\n",
    "        duration = sim_duration if running_as_notebook else 0.01\n",
    "        simulator.AdvanceTo(duration)\n"
   ]
  },
  {
   "cell_type": "markdown",
   "metadata": {
    "colab_type": "text",
    "id": "EvOQi_xQE9kY"
   },
   "source": [
    "# Problem Description\n",
    "In the lecture, we learned the basics of spatial transformations. For this exercise, you will have iiwa arm *paint* a circular, planar trajectory by computing and interpolating the key frames, just as we have seen from the lecture\n",
    "\n",
    "**These are the main steps of the exercise:**\n",
    "1. Design and implement a circular trajectory for the Iiwa arm to follow.\n",
    "2. Observe and reflect on the Differential IK controller."
   ]
  },
  {
   "cell_type": "markdown",
   "metadata": {
    "colab_type": "text",
    "id": "kEzcpiOiZp0C"
   },
   "source": [
    "# Circular Trajectory\n",
    "\n",
    "In this exercise, you will design a circular planar trajectory like the one below for the iiwa arm to follow, like a robot painting in the air! To do so, we will follow the same procedure as shown in class:\n",
    "\n",
    "(1) compute the key frames of the circular trajectory\n",
    "\n",
    "(2) construct interpolated trajectory from the key frames"
   ]
  },
  {
   "cell_type": "markdown",
   "metadata": {
    "colab_type": "text",
    "id": "KwoXw_yDgtbg"
   },
   "source": [
    "<img src=\"https://raw.githubusercontent.com/RussTedrake/manipulation/master/figures/exercises/robot_painter_circle.png\" width=\"700\">"
   ]
  },
  {
   "cell_type": "markdown",
   "metadata": {
    "colab_type": "text",
    "id": "KqinvTKyZp0E"
   },
   "source": [
    "The x and y axis in the diagram above are from the world frame."
   ]
  },
  {
   "cell_type": "markdown",
   "metadata": {
    "colab_type": "text",
    "id": "C-lMFAjpHRtp"
   },
   "source": [
    "<img src=\"https://raw.githubusercontent.com/RussTedrake/manipulation/master/figures/exercises/robot_painter_screenshot.png\" width=\"700\">"
   ]
  },
  {
   "cell_type": "markdown",
   "metadata": {
    "colab_type": "text",
    "id": "O5gumWUPZp0G"
   },
   "source": [
    "The screenshot above visualizes the key frames of the circular trajectory. The key frames illustrate the poses of the gripper in the world frame at different time steps along the trajectory. First, you should notice from the visualization above that the gripper frame is different from the world frame. In particular, the +y axis of the gripper frame points vertically downward, and the +z axis of the gripper points backward. This is an important observation for this exercise.\n",
    "\n",
    "The rigid transform of the center of the circular trajectory as well as the radius of the circle is defined below. In words, we would like to have our arm rotate counterclockwise about the +z axis in the world frame. Besides, we would like the +z axis of the gripper frame to always point toward the center of the circle. "
   ]
  },
  {
   "cell_type": "code",
   "execution_count": 14,
   "metadata": {
    "colab": {},
    "colab_type": "code",
    "id": "iQ7RRZrGE9kZ"
   },
   "outputs": [],
   "source": [
    "# define center and radius\n",
    "radius = 0.1\n",
    "p0 = [0.45, 0.0, 0.4]\n",
    "R0 = RotationMatrix(np.array([[0, 1, 0], [0, 0, -1], [-1, 0, 0]]).T)\n",
    "X_WorldCenter = RigidTransform(R0, p0)\n",
    "\n",
    "num_key_frames = 10\n",
    "\"\"\"\n",
    "you may use different thetas as long as your trajectory starts\n",
    "from the Start Frame above and your rotation is positive\n",
    "in the world frame about +z axis\n",
    "thetas = np.linspace(0, 2*np.pi, num_key_frames)\n",
    "\"\"\"\n",
    "thetas = np.linspace(0, 2*np.pi, num_key_frames)\n",
    "\n",
    "painter = IIWA_Painter()"
   ]
  },
  {
   "cell_type": "markdown",
   "metadata": {
    "colab_type": "text",
    "id": "V_F1YLhfZp0M"
   },
   "source": [
    "We have provided an `IIWA_painter` class at the very top of this notebook to help you abstract away parts of the implementation details in Drake. You may find `visualize_frame` method helpful to visualize rigid transforms. The cell below first computes the rigid transform of the current gripper pose, and then it draws a frame of that pose in meshcat. Note that the frame drawn here is not attached to any body in the scene. They are for visualization only."
   ]
  },
  {
   "cell_type": "code",
   "execution_count": 15,
   "metadata": {
    "colab": {},
    "colab_type": "code",
    "id": "FbPCfGekZp0N"
   },
   "outputs": [],
   "source": [
    "X_WG = painter.get_X_WG()\n",
    "painter.visualize_frame('gripper_current', X_WG)"
   ]
  },
  {
   "cell_type": "markdown",
   "metadata": {
    "colab_type": "text",
    "id": "WBMew300E9kM"
   },
   "source": [
    "Finally, you can compose arbitrary rotations via `MakeXRotation`, `MakeYRotation`, and `MakeZRotation` methods. Their names are quite self-explanatory."
   ]
  },
  {
   "cell_type": "code",
   "execution_count": 16,
   "metadata": {
    "colab": {},
    "colab_type": "code",
    "id": "GuCZwacoE9kN"
   },
   "outputs": [
    {
     "data": {
      "text/plain": [
       "RotationMatrix([\n",
       "  [0.8660254037844387, 0.0, 0.49999999999999994],\n",
       "  [0.0, 1.0, 0.0],\n",
       "  [-0.49999999999999994, 0.0, 0.8660254037844387],\n",
       "])"
      ]
     },
     "execution_count": 16,
     "metadata": {},
     "output_type": "execute_result"
    }
   ],
   "source": [
    "RotationMatrix.MakeYRotation(np.pi/6.0)"
   ]
  },
  {
   "cell_type": "markdown",
   "metadata": {
    "colab_type": "text",
    "id": "oJv_BmszE9kj"
   },
   "source": [
    "**Below, your job is to complete the compose_circular_key_frames method given the center of the circle and interpolated rotation angles about the center of the circle of the key frames**"
   ]
  },
  {
   "cell_type": "code",
   "execution_count": 17,
   "metadata": {
    "colab": {},
    "colab_type": "code",
    "id": "8Bh455axE9kk"
   },
   "outputs": [],
   "source": [
    "def compose_circular_key_frames(thetas, X_WorldCenter, X_WorldGripper_init):\n",
    "    \"\"\"    \n",
    "    returns: a list of RigidTransforms\n",
    "    \"\"\"\n",
    "    ## this is an template, replace your code below\n",
    "    key_frame_poses_in_world = [X_WorldGripper_init]\n",
    "    for theta in thetas:\n",
    "        pos = [radius*np.cos(theta), radius*np.sin(theta),0] + X_WorldCenter.translation()\n",
    "        R = RotationMatrix.MakeYRotation(-theta)\n",
    "        this_pose = RigidTransform(X_WorldCenter.rotation().multiply(R), pos)\n",
    "        key_frame_poses_in_world.append(this_pose)\n",
    "        \n",
    "    return key_frame_poses_in_world"
   ]
  },
  {
   "cell_type": "code",
   "execution_count": 18,
   "metadata": {
    "colab": {},
    "colab_type": "code",
    "id": "e28C5w_RE9kt"
   },
   "outputs": [],
   "source": [
    "# check key frames instead of interpolated trajectory\n",
    "def visualize_key_frames(frame_poses):\n",
    "    for i, pose in enumerate(frame_poses):\n",
    "        painter.visualize_frame('frame_{}'.format(i), pose, length=0.05)\n",
    "        \n",
    "key_frame_poses = compose_circular_key_frames(thetas, X_WorldCenter, painter.get_X_WG())   \n",
    "visualize_key_frames(key_frame_poses)"
   ]
  },
  {
   "cell_type": "markdown",
   "metadata": {
    "colab_type": "text",
    "id": "ag2beQ-wE9kx"
   },
   "source": [
    "## Construct Trajectory\n",
    "\n",
    "Now construct the trajectories to interpolate the positions and orientations of key frames using `PiecewisePose`. You might find it helpful to review the examples in the main chapter notebook.\n"
   ]
  },
  {
   "cell_type": "code",
   "execution_count": 19,
   "metadata": {
    "colab": {},
    "colab_type": "code",
    "id": "MGah0BwTE9ky"
   },
   "outputs": [],
   "source": [
    "X_WorldGripper_init = painter.get_X_WG()\n",
    "total_time = 20\n",
    "key_frame_poses = compose_circular_key_frames(thetas, X_WorldCenter, X_WorldGripper_init)  \n",
    "times = np.linspace(0, total_time, num_key_frames+1)\n",
    "traj = PiecewisePose.MakeLinear(times, key_frame_poses)"
   ]
  },
  {
   "cell_type": "markdown",
   "metadata": {
    "colab_type": "text",
    "id": "YB0sjycBE9k8"
   },
   "source": [
    "Now you should be able to visualize the execution of the circular painting. Use it to confirm that the gripper moves counterclockwise following the key frames previously drawn in the scene."
   ]
  },
  {
   "cell_type": "code",
   "execution_count": 20,
   "metadata": {
    "colab": {},
    "colab_type": "code",
    "id": "lumf3EUSZp0y"
   },
   "outputs": [],
   "source": [
    "painter = IIWA_Painter(traj)\n",
    "painter.paint(sim_duration=total_time)"
   ]
  },
  {
   "cell_type": "markdown",
   "metadata": {
    "colab_type": "text",
    "id": "OaaONjD4E9lI"
   },
   "source": [
    "**Note that in this problem we have explicitly chosen to use the initial gripper pose as the start of the circular trajectory. Is this choice necessary to have the robot follow the desired circular path? Explain your answer and reasoning.**\n",
    "\n",
    "Hints: \n",
    "- Take a look at the constructor for the `IIWA_Painter` class a few cells above. Note the input/output variables of our pseudoinverse controller and the iiwa controller. Also, what's that integrator doing there?\n",
    "- You can test this using the code above by modifying the first pose of the trajectory and observing the result (just make sure to change your `compose_circular_key_frames` function to the final version you want before submitting to the grader!)"
   ]
  },
  {
   "cell_type": "markdown",
   "metadata": {
    "colab_type": "text",
    "id": "oJGsEidfE9lJ"
   },
   "source": [
    "## Your Answer\n",
    "\n",
    "Answer the question here, and copy-paste to the Gradescope 'written submission' section!"
   ]
  },
  {
   "cell_type": "markdown",
   "metadata": {},
   "source": [
    "**Note that the default amount of time we simulate forward (in the `paint()` method of the `IIWA_Painter`) matches the total time interval we specify for our trajectory (in `np.linspace()` a few cells above). What happens if you increase the simulation time while keeping the total time for the trajectory fixed? What is the cause of your expected/observed behavior?**"
   ]
  },
  {
   "cell_type": "markdown",
   "metadata": {
    "colab_type": "text",
    "id": "oJGsEidfE9lJ"
   },
   "source": [
    "## Your Answer\n",
    "\n",
    "Answer the question here, and copy-paste to the Gradescope 'written submission' section!"
   ]
  },
  {
   "cell_type": "markdown",
   "metadata": {
    "colab_type": "text",
    "id": "AuvTfWR0HPL-"
   },
   "source": []
  },
  {
   "cell_type": "markdown",
   "metadata": {
    "colab_type": "text",
    "id": "zPmeRLtJk410"
   },
   "source": [
    "## How will this notebook be Graded?\n",
    "\n",
    "If you are enrolled in the class, this notebook will be graded using [Gradescope](www.gradescope.com). You should have gotten the enrollement code on our announcement in Piazza. \n",
    "\n",
    "For submission of this assignment, you must do two things. \n",
    "- Download and submit the notebook `robot_painter.ipynb` to Gradescope's notebook submission section, along with your notebook for the other problems.\n",
    "\n",
    "We will evaluate the local functions in the notebook to see if the function behaves as we have expected. For this exercise, the rubric is as follows:\n",
    "- [4.0 pts] `compose_circular_key_frames` is correct according to the requirement\n",
    "- [3.0 pts] reasonable answer on the written question"
   ]
  },
  {
   "cell_type": "code",
   "execution_count": null,
   "metadata": {
    "colab": {},
    "colab_type": "code",
    "id": "95VTQeqg_P0P"
   },
   "outputs": [],
   "source": [
    "from manipulation.exercises.pick.test_robot_painter import TestRobotPainter\n",
    "from manipulation.exercises.grader import Grader \n",
    "\n",
    "Grader.grade_output([TestRobotPainter], [locals()], 'results.json')\n",
    "Grader.print_test_results('results.json')"
   ]
  },
  {
   "cell_type": "code",
   "execution_count": null,
   "metadata": {},
   "outputs": [],
   "source": []
  }
 ],
 "metadata": {
  "celltoolbar": "Tags",
  "colab": {
   "collapsed_sections": [],
   "name": "robot_painter.ipynb",
   "provenance": []
  },
  "kernelspec": {
   "display_name": "Python 3 (ipykernel)",
   "language": "python",
   "name": "python3"
  },
  "language_info": {
   "codemirror_mode": {
    "name": "ipython",
    "version": 3
   },
   "file_extension": ".py",
   "mimetype": "text/x-python",
   "name": "python",
   "nbconvert_exporter": "python",
   "pygments_lexer": "ipython3",
   "version": "3.10.6"
  },
  "vscode": {
   "interpreter": {
    "hash": "e7370f93d1d0cde622a1f8e1c04877d8463912d04d973331ad4851f04de6915a"
   }
  }
 },
 "nbformat": 4,
 "nbformat_minor": 1
}
